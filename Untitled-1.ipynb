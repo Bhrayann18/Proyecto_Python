{
 "cells": [
  {
   "cell_type": "code",
   "execution_count": 10,
   "metadata": {},
   "outputs": [],
   "source": [
    "import pandas as pd"
   ]
  },
  {
   "cell_type": "code",
   "execution_count": 11,
   "metadata": {},
   "outputs": [],
   "source": [
    "filename = \"Inmuebles_Disponibles_Para_La_Venta.csv\""
   ]
  },
  {
   "cell_type": "code",
   "execution_count": 13,
   "metadata": {},
   "outputs": [],
   "source": [
    "data = pd.read_csv(filename)\n",
    "\n",
    "data[\"Precio\"] = data[\"Precio\"] / 1000_000\n"
   ]
  },
  {
   "cell_type": "code",
   "execution_count": 14,
   "metadata": {},
   "outputs": [
    {
     "name": "stdout",
     "output_type": "stream",
     "text": [
      "total registros 448\n"
     ]
    },
    {
     "data": {
      "text/plain": [
       "448"
      ]
     },
     "execution_count": 14,
     "metadata": {},
     "output_type": "execute_result"
    }
   ],
   "source": [
    "totalregistros = data[\"Codigo\"].count()\n",
    "print(f\"total registros {totalregistros}\")\n",
    "data.shape[0]"
   ]
  },
  {
   "cell_type": "code",
   "execution_count": null,
   "metadata": {},
   "outputs": [],
   "source": [
    "totalcolumnas = data.shape[1]\n",
    "print(f\"total columnas{totalcolumnas}\")\n",
    "data.info()"
   ]
  },
  {
   "cell_type": "code",
   "execution_count": null,
   "metadata": {},
   "outputs": [],
   "source": [
    "info = data.dtypes\n",
    "\n",
    "res = dict(\n",
    "    (key, \"Numerica\") if value == \"int64\" else (key, \"Cetegorica\")\n",
    "    for key, value in info.items()\n",
    ")\n",
    "\n",
    "pd.DataFrame({\"Colum,na\": res.keys(), \"tipo\": res.values()})"
   ]
  },
  {
   "cell_type": "code",
   "execution_count": 16,
   "metadata": {},
   "outputs": [
    {
     "data": {
      "text/html": [
       "<div>\n",
       "<style scoped>\n",
       "    .dataframe tbody tr th:only-of-type {\n",
       "        vertical-align: middle;\n",
       "    }\n",
       "\n",
       "    .dataframe tbody tr th {\n",
       "        vertical-align: top;\n",
       "    }\n",
       "\n",
       "    .dataframe thead th {\n",
       "        text-align: right;\n",
       "    }\n",
       "</style>\n",
       "<table border=\"1\" class=\"dataframe\">\n",
       "  <thead>\n",
       "    <tr style=\"text-align: right;\">\n",
       "      <th></th>\n",
       "      <th>Columnas</th>\n",
       "      <th>Nulos</th>\n",
       "    </tr>\n",
       "  </thead>\n",
       "  <tbody>\n",
       "    <tr>\n",
       "      <th>0</th>\n",
       "      <td>Barrio</td>\n",
       "      <td>389</td>\n",
       "    </tr>\n",
       "    <tr>\n",
       "      <th>1</th>\n",
       "      <td>Datos Adicionales</td>\n",
       "      <td>371</td>\n",
       "    </tr>\n",
       "  </tbody>\n",
       "</table>\n",
       "</div>"
      ],
      "text/plain": [
       "            Columnas  Nulos\n",
       "0             Barrio    389\n",
       "1  Datos Adicionales    371"
      ]
     },
     "execution_count": 16,
     "metadata": {},
     "output_type": "execute_result"
    }
   ],
   "source": [
    "with_null = dict()\n",
    "for key, value in data.isna().sum().items():\n",
    "    if value > 0:\n",
    "        with_null[key] = value\n",
    "pd.DataFrame({'Columnas': with_null.keys(), 'Nulos': with_null.values()})"
   ]
  },
  {
   "cell_type": "code",
   "execution_count": 17,
   "metadata": {},
   "outputs": [
    {
     "name": "stdout",
     "output_type": "stream",
     "text": [
      "Hay 13 registros duplicados, se procede a reemplazar la varaible data con con contenidos de newdata\n"
     ]
    }
   ],
   "source": [
    "newdata = data.drop_duplicates()\n",
    "\n",
    "newdata = newdata.drop_duplicates(\n",
    "    subset=['Ciudad', 'Departamento', 'Barrio', 'Direccion']\n",
    ")\n",
    "duplicados = data.shape[0] - newdata.shape[0]\n",
    "if duplicados == 0:\n",
    "    print('Por el momento no se encontraron datos repetidos')\n",
    "else:\n",
    "    print(\n",
    "        f'Hay {duplicados} registros duplicados, se procede a reemplazar la varaible data con con contenidos de newdata'\n",
    "    )\n",
    "\n",
    "    data = newdata"
   ]
  },
  {
   "cell_type": "code",
   "execution_count": null,
   "metadata": {},
   "outputs": [],
   "source": [
    "print(f\"El estudio se realizara con {data.shape[0]} filas\")"
   ]
  },
  {
   "cell_type": "code",
   "execution_count": null,
   "metadata": {},
   "outputs": [],
   "source": [
    "data.describe()"
   ]
  },
  {
   "cell_type": "code",
   "execution_count": null,
   "metadata": {},
   "outputs": [],
   "source": [
    "import matplotlib.pyplot as plt\n",
    "fig = data.boxplot(\"Precio\", by=\"Departamento\");\n",
    "muestras = data.shape[0];\n",
    "plt.ylabel('precio');\n",
    "plt.suptitle('');\n",
    "plt.xticks(rotation=75);\n",
    "plt.title(f'Boxplot valor por condicion {muestras} muestras');\n"
   ]
  },
  {
   "cell_type": "code",
   "execution_count": null,
   "metadata": {},
   "outputs": [],
   "source": [
    "from enum import unique\n",
    "\n",
    "\n",
    "norepre = dict()\n",
    "for tipoinmueble in data[\"Tipo de Inmueble\"].unique():\n",
    "    muestras = data[data[\"Tipo de Inmueble\"] == tipoinmueble].shape[0]\n",
    "    if muestras < 11:\n",
    "        norepre[tipoinmueble] = muestras\n",
    "        continue\n",
    "    fig = data[data[\"Tipo de Inmueble\"] == tipoinmueble].boxplot(\n",
    "        \"Precio\", by=\"Departamento\"\n",
    "    )\n",
    "    plt.ylabel(\"Precio\")\n",
    "    plt.suptitle(\"\")\n",
    "    plt.xticks(rotation=75)\n",
    "    plt.title(f\"Tipo inmueble {tipoinmueble} sobre {muestras} muestras\")\n",
    "\n",
    "    print(\"Inmuebles no representativos por categoria\")\n",
    "    pd.DataFrame({\"Tipo inmueble\": norepre.keys(), \"muestras\": norepre.values()})"
   ]
  },
  {
   "cell_type": "code",
   "execution_count": 26,
   "metadata": {},
   "outputs": [],
   "source": [
    "import matplotlib.pyplot as plt"
   ]
  },
  {
   "cell_type": "code",
   "execution_count": 36,
   "metadata": {},
   "outputs": [],
   "source": [
    "def showbycity(departamento, minimo=11):\n",
    "    dpto = departamento.upper()\n",
    "    muestras = data[data[\"Departamento\"] == dpto].shape[0]\n",
    "    if muestras < minimo:\n",
    "        return (dpto, muestras)\n",
    "    fig = data[data['Departamento'] == dpto].boxplot(\"Precio\", by=\"Ciudad\")\n",
    "    plt.ylabel(\"Precio\")\n",
    "    plt.xticks(rotation=75)\n",
    "    plt.suptitle('')\n",
    "    plt.title(f'{dpto} valor por condicion, {muestras} muestras')"
   ]
  }
 ],
 "metadata": {
  "kernelspec": {
   "display_name": "Python 3",
   "language": "python",
   "name": "python3"
  },
  "language_info": {
   "codemirror_mode": {
    "name": "ipython",
    "version": 3
   },
   "file_extension": ".py",
   "mimetype": "text/x-python",
   "name": "python",
   "nbconvert_exporter": "python",
   "pygments_lexer": "ipython3",
   "version": "3.11.4"
  },
  "orig_nbformat": 4
 },
 "nbformat": 4,
 "nbformat_minor": 2
}
